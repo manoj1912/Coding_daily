{
 "cells": [
  {
   "cell_type": "code",
   "execution_count": 2,
   "metadata": {},
   "outputs": [
    {
     "name": "stdout",
     "output_type": "stream",
     "text": [
      "* \n",
      "* * \n",
      "* * * \n",
      "* * * * \n",
      "* * * * * \n"
     ]
    }
   ],
   "source": [
    "n=5\n",
    "for i in range(1,n+1):\n",
    "    print('* ' * i)"
   ]
  },
  {
   "cell_type": "code",
   "execution_count": 4,
   "metadata": {},
   "outputs": [
    {
     "name": "stdout",
     "output_type": "stream",
     "text": [
      "* * * * * \n",
      "* * * * \n",
      "* * * \n",
      "* * \n",
      "* \n"
     ]
    }
   ],
   "source": [
    "n = 5 \n",
    "for i in range(1,n+1):\n",
    "    print('* ' *(n+1-i))"
   ]
  },
  {
   "cell_type": "code",
   "execution_count": 5,
   "metadata": {},
   "outputs": [
    {
     "name": "stdout",
     "output_type": "stream",
     "text": [
      "        * \n",
      "      * * \n",
      "    * * * \n",
      "  * * * * \n",
      "* * * * * \n"
     ]
    }
   ],
   "source": [
    "n = 5 \n",
    "for i in range(1,n+1):\n",
    "    print('{}{}'.format('  '*(n-i), '* '*i))"
   ]
  },
  {
   "cell_type": "code",
   "execution_count": 8,
   "metadata": {},
   "outputs": [
    {
     "name": "stdout",
     "output_type": "stream",
     "text": [
      "* * * * * \n",
      "  * * * * \n",
      "    * * * \n",
      "      * * \n",
      "        * \n"
     ]
    }
   ],
   "source": [
    "n = 5 \n",
    "for i in range(1,n+1):\n",
    "    print('{}{}'.format('  '*(i-1), '* '*(n+1-i)))"
   ]
  },
  {
   "cell_type": "code",
   "execution_count": 9,
   "metadata": {},
   "outputs": [
    {
     "name": "stdout",
     "output_type": "stream",
     "text": [
      "        * \n",
      "      * * * \n",
      "    * * * * * \n",
      "  * * * * * * * \n",
      "* * * * * * * * * \n"
     ]
    }
   ],
   "source": [
    "n = 5\n",
    "for i in range(1,n+1):\n",
    "    print('{}{}'.format('  ' *(n-i), '* '*(2*i-1)))"
   ]
  },
  {
   "cell_type": "code",
   "execution_count": 2,
   "metadata": {},
   "outputs": [
    {
     "name": "stdout",
     "output_type": "stream",
     "text": [
      "* * * * * * * * * \n",
      "  * * * * * * * \n",
      "    * * * * * \n",
      "      * * * \n",
      "        * \n"
     ]
    }
   ],
   "source": [
    "n = 5\n",
    "for i in range(1,n+1):\n",
    "    print('{}{}'.format('  '*(i-1), '* '* ((n+1-i)*2 - 1)))"
   ]
  },
  {
   "cell_type": "code",
   "execution_count": 5,
   "metadata": {},
   "outputs": [
    {
     "name": "stdout",
     "output_type": "stream",
     "text": [
      "* \n",
      "* * \n",
      "* * * \n",
      "* * * * \n",
      "* * * * * \n"
     ]
    }
   ],
   "source": [
    "n= 5\n",
    "for i in range(1,n+1):\n",
    "        print('* '*i)"
   ]
  },
  {
   "cell_type": "code",
   "execution_count": 21,
   "metadata": {},
   "outputs": [
    {
     "name": "stdout",
     "output_type": "stream",
     "text": [
      "        5 \n",
      "      4 5 \n",
      "    3 4 5 \n",
      "  2 3 4 5 \n",
      "1 2 3 4 5 \n"
     ]
    }
   ],
   "source": [
    "n = 5\n",
    "for i in range(1,n+1):\n",
    "    print('  '*(n-i),end = '')\n",
    "    num=n-i+1\n",
    "    for j in range(i):\n",
    "        print(num,end= ' ')\n",
    "        num+=1\n",
    "    print()\n"
   ]
  },
  {
   "cell_type": "code",
   "execution_count": 42,
   "metadata": {},
   "outputs": [
    {
     "name": "stdout",
     "output_type": "stream",
     "text": [
      "        5 \n",
      "      4 5 \n",
      "    3 4 5 \n",
      "  2 3 4 5 \n",
      "1 2 3 4 5 \n"
     ]
    }
   ],
   "source": [
    "n = 5\n",
    "for i in range(1,n+1):\n",
    "    print('  ' *(n-i), end = '')\n",
    "    for j in range(n+1-i,n+1):\n",
    "        print(j,end = ' ')\n",
    "    print()"
   ]
  },
  {
   "cell_type": "code",
   "execution_count": 57,
   "metadata": {},
   "outputs": [
    {
     "name": "stdout",
     "output_type": "stream",
     "text": [
      "*\n",
      "        \n",
      "*\n",
      "*\n",
      "      \n",
      "*\n",
      "*\n",
      "*\n",
      "    \n",
      "*\n",
      "        \n",
      "*\n",
      "        \n"
     ]
    }
   ],
   "source": [
    "n= 5\n",
    "for i in range(1,n+1):\n",
    "    for j in range(1,n+1):\n",
    "        if(j==1):\n",
    "            print('*') \n",
    "        elif (i==2 and j==2):\n",
    "            print(\"*\")\n",
    "        elif (i==3 and j==2):\n",
    "            print(\"*\")\n",
    "        elif (i==3 and j==2):\n",
    "            print(\"*\")\n",
    "        elif (i==3 and j==3):\n",
    "            print(\"*\")\n",
    "        else:\n",
    "            print('  ',end = '')\n",
    "    print()\n",
    "\n",
    "            \n",
    "        \n"
   ]
  },
  {
   "cell_type": "code",
   "execution_count": 12,
   "metadata": {},
   "outputs": [
    {
     "name": "stdout",
     "output_type": "stream",
     "text": [
      "* \n",
      "* * \n",
      "* * * \n",
      "* * \n",
      "* \n"
     ]
    }
   ],
   "source": [
    "for i in range(1,4):\n",
    "    print('* '*i)\n",
    "for j in range(1,3):\n",
    "    print('* '*(3-j))"
   ]
  },
  {
   "cell_type": "code",
   "execution_count": 28,
   "metadata": {},
   "outputs": [
    {
     "name": "stdout",
     "output_type": "stream",
     "text": [
      "      * \n",
      "    * * \n",
      "  * * * \n",
      "    * * \n",
      "      * \n"
     ]
    }
   ],
   "source": [
    "for i in range(1,4):\n",
    "    print('{}{}'.format('  '* (4-i), '* '*i))\n",
    "for j in range(1,3):\n",
    "    print('{}{}'.format('  '* (j+1), '* '*(3-j)))\n"
   ]
  },
  {
   "cell_type": "code",
   "execution_count": 22,
   "metadata": {},
   "outputs": [
    {
     "name": "stdout",
     "output_type": "stream",
     "text": [
      "  * * \n",
      "    * \n"
     ]
    }
   ],
   "source": [
    "for i in range(1,3):\n",
    "    print('{}{}'.format('  '* i, '* '*(3-i)))"
   ]
  },
  {
   "cell_type": "code",
   "execution_count": 27,
   "metadata": {},
   "outputs": [
    {
     "name": "stdout",
     "output_type": "stream",
     "text": [
      "*       *\n",
      " *     * \n",
      "  *   *  \n",
      "   * *   \n",
      "    *    \n"
     ]
    }
   ],
   "source": [
    "for i in range(5):\n",
    "    # Loop through each column\n",
    "    for j in range(9):\n",
    "        # Print a '*' if the column is at the same position as the row or its mirror\n",
    "        if j == i or j == 8 - i:\n",
    "            print(\"*\", end=\"\")\n",
    "        # Otherwise, print a space\n",
    "        else:\n",
    "            print(\" \", end=\"\")\n",
    "    # Move to the next row\n",
    "    print()"
   ]
  },
  {
   "cell_type": "code",
   "execution_count": 28,
   "metadata": {},
   "outputs": [
    {
     "name": "stdout",
     "output_type": "stream",
     "text": [
      "*       *\n",
      " *     * \n",
      "  *   *  \n",
      "   * *   \n",
      "    *    \n"
     ]
    }
   ],
   "source": [
    "# Loop through each row\n",
    "for i in range(5):\n",
    "    # Loop through each column\n",
    "    for j in range(9):\n",
    "        # Print a '*' if the column is at the same position as the row or its mirror\n",
    "        if j == i or j == 8 - i:\n",
    "            print(\"*\", end=\"\")\n",
    "        # Otherwise, print a space\n",
    "        else:\n",
    "            print(\" \", end=\"\")\n",
    "    # Move to the next row\n",
    "    print()\n"
   ]
  },
  {
   "cell_type": "code",
   "execution_count": 4,
   "metadata": {},
   "outputs": [
    {
     "name": "stdout",
     "output_type": "stream",
     "text": [
      "1 1 1 1 1 \n",
      "2 2 2 2 2 \n",
      "3 3 3 3 3 \n",
      "4 4 4 4 4 \n",
      "5 5 5 5 5 \n"
     ]
    }
   ],
   "source": [
    "n = 5\n",
    "for i in range(1,n+1):\n",
    "    for j in range(1,n+1):\n",
    "        print(i,end = ' ')\n",
    "    print()"
   ]
  },
  {
   "cell_type": "code",
   "execution_count": 5,
   "metadata": {},
   "outputs": [
    {
     "name": "stdout",
     "output_type": "stream",
     "text": [
      "1 2 3 4 5 \n",
      "1 2 3 4 5 \n",
      "1 2 3 4 5 \n",
      "1 2 3 4 5 \n",
      "1 2 3 4 5 \n"
     ]
    }
   ],
   "source": [
    "n = 5\n",
    "for i in range(1,n+1):\n",
    "    for j in range(1,n+1):\n",
    "        print(j,end = ' ')\n",
    "    print()"
   ]
  },
  {
   "cell_type": "code",
   "execution_count": 7,
   "metadata": {},
   "outputs": [
    {
     "name": "stdout",
     "output_type": "stream",
     "text": [
      "  \n",
      "1 2 3 \n",
      "1 2 3 4 5 \n"
     ]
    }
   ],
   "source": [
    "n = 3\n",
    "for i in range(1,n+1):\n",
    "    for j in range(1,2*i):\n",
    "        if j>=3-i:\n",
    "            print(j,end=' ')\n",
    "        else:\n",
    "            print(' ', end = ' ')\n",
    "    print()\n",
    "    "
   ]
  },
  {
   "cell_type": "code",
   "execution_count": 46,
   "metadata": {},
   "outputs": [
    {
     "name": "stdout",
     "output_type": "stream",
     "text": [
      "        * \n",
      "      * * \n",
      "    * * * \n"
     ]
    }
   ],
   "source": [
    "for i in range(1,n+1):\n",
    "    for j in range(5):\n",
    "        if j>=5-i:\n",
    "            print('*', end = ' ')\n",
    "        else:\n",
    "            print(' ', end = ' ')\n",
    "    print()"
   ]
  }
 ],
 "metadata": {
  "kernelspec": {
   "display_name": "Python 3",
   "language": "python",
   "name": "python3"
  },
  "language_info": {
   "codemirror_mode": {
    "name": "ipython",
    "version": 3
   },
   "file_extension": ".py",
   "mimetype": "text/x-python",
   "name": "python",
   "nbconvert_exporter": "python",
   "pygments_lexer": "ipython3",
   "version": "3.11.1"
  },
  "orig_nbformat": 4,
  "vscode": {
   "interpreter": {
    "hash": "5c4c1caf65b490ed5d24fcb4a6f6229ba2fcfe1196d5ada620e36c6e220d14db"
   }
  }
 },
 "nbformat": 4,
 "nbformat_minor": 2
}
