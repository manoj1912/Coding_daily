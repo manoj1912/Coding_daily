{
 "cells": [
  {
   "cell_type": "code",
   "execution_count": 1,
   "metadata": {},
   "outputs": [
    {
     "name": "stdout",
     "output_type": "stream",
     "text": [
      "17\n"
     ]
    }
   ],
   "source": [
    "num = 1817\n",
    "add = 0\n",
    "while num!=0:\n",
    "    rem = num%10\n",
    "    add+=rem\n",
    "    num//=10\n",
    "print(add)"
   ]
  },
  {
   "cell_type": "code",
   "execution_count": 4,
   "metadata": {},
   "outputs": [
    {
     "name": "stdout",
     "output_type": "stream",
     "text": [
      "num is niven number\n"
     ]
    }
   ],
   "source": [
    "num = 50\n",
    "add = 0\n",
    "copy = num\n",
    "while num!=0:\n",
    "    rem = num%10\n",
    "    add+=rem\n",
    "    num//=10\n",
    "if(copy%add==0):\n",
    "    print('num is niven number')\n",
    "else:\n",
    "    print('num is niven number')"
   ]
  },
  {
   "cell_type": "code",
   "execution_count": 6,
   "metadata": {},
   "outputs": [
    {
     "name": "stdout",
     "output_type": "stream",
     "text": [
      "num is armstrong\n"
     ]
    }
   ],
   "source": [
    "num =1634\n",
    "add = 0\n",
    "copy = num\n",
    "count = len(str(num))\n",
    "while num!=0:\n",
    "    rem = num%10\n",
    "    add+=rem**count\n",
    "    num//=10\n",
    "if(copy==add):\n",
    "    print('num is armstrong')\n",
    "else:\n",
    "    print('num is not armstrong')"
   ]
  },
  {
   "cell_type": "code",
   "execution_count": 1,
   "metadata": {},
   "outputs": [
    {
     "name": "stdout",
     "output_type": "stream",
     "text": [
      "175\n",
      "num is disarium \n"
     ]
    }
   ],
   "source": [
    "num =175\n",
    "add = 0\n",
    "copy = num\n",
    "count = len(str(num))\n",
    "while num!=0:\n",
    "    rem = num%10\n",
    "    add+=rem**count\n",
    "    num//=10\n",
    "    count-=1\n",
    "print(add)\n",
    "if(copy==add):\n",
    "    print('num is disarium ')\n",
    "else:\n",
    "    print('num is not disarium ')"
   ]
  },
  {
   "cell_type": "code",
   "execution_count": 4,
   "metadata": {},
   "outputs": [
    {
     "name": "stdout",
     "output_type": "stream",
     "text": [
      "happy number\n"
     ]
    }
   ],
   "source": [
    "num = 19\n",
    "while num > 9:\n",
    "    add =0\n",
    "    while num!=0:\n",
    "        rem = num%10\n",
    "        add=add+(rem**2)\n",
    "        num//=10\n",
    "    num=add\n",
    "if(num==1):\n",
    "    print('happy number')\n",
    "else:\n",
    "    print('not happy number')"
   ]
  },
  {
   "cell_type": "code",
   "execution_count": 8,
   "metadata": {},
   "outputs": [
    {
     "name": "stdout",
     "output_type": "stream",
     "text": [
      "spy number\n"
     ]
    }
   ],
   "source": [
    "num = 123\n",
    "mul = 1\n",
    "add = 0\n",
    "while num!=0:\n",
    "    rem = num%10\n",
    "    add+=rem\n",
    "    mul*=rem\n",
    "    num//=10\n",
    "if(mul==add):\n",
    "    print('spy number')\n",
    "else:\n",
    "    print('not spy number')"
   ]
  },
  {
   "cell_type": "code",
   "execution_count": 13,
   "metadata": {},
   "outputs": [
    {
     "name": "stdout",
     "output_type": "stream",
     "text": [
      "9\n",
      "neon number\n"
     ]
    }
   ],
   "source": [
    "num = 9\n",
    "sq = 9**2\n",
    "add=0\n",
    "while sq!=0:\n",
    "    rem = sq%10\n",
    "    add+=rem\n",
    "    sq//=10\n",
    "print(add)\n",
    "if(add==num):\n",
    "    print('neon number')\n",
    "else:\n",
    "    print('not neon number')"
   ]
  },
  {
   "cell_type": "code",
   "execution_count": 4,
   "metadata": {},
   "outputs": [
    {
     "name": "stdout",
     "output_type": "stream",
     "text": [
      "6\n",
      "P\n",
      "Y\n",
      "T\n",
      "H\n",
      "O\n",
      "N\n"
     ]
    }
   ],
   "source": [
    "S = 'PYTHON'\n",
    "L = len(S)\n",
    "print(L)\n",
    "for i in range(0,L):\n",
    "    print(S[i])"
   ]
  },
  {
   "cell_type": "code",
   "execution_count": 12,
   "metadata": {},
   "outputs": [
    {
     "name": "stdout",
     "output_type": "stream",
     "text": [
      "6\n",
      "N\n",
      "O\n",
      "H\n",
      "T\n",
      "Y\n",
      "P\n"
     ]
    }
   ],
   "source": [
    "S = 'PYTHON'\n",
    "L = len(S)\n",
    "print(L)\n",
    "for i in range(0,L):\n",
    "    Y = 5-i\n",
    "    print(S[Y])"
   ]
  },
  {
   "cell_type": "code",
   "execution_count": 14,
   "metadata": {},
   "outputs": [
    {
     "name": "stdout",
     "output_type": "stream",
     "text": [
      "P\n",
      "PY\n",
      "PYT\n",
      "PYTH\n",
      "PYTHO\n",
      "PYTHON\n"
     ]
    }
   ],
   "source": [
    "S = 'PYTHON'\n",
    "L = len(S)\n",
    "for i in range(0,L):\n",
    "    print(S[0:i+1])"
   ]
  },
  {
   "cell_type": "code",
   "execution_count": 34,
   "metadata": {},
   "outputs": [
    {
     "name": "stdout",
     "output_type": "stream",
     "text": [
      "NOHTYP\n",
      "NOHTY\n",
      "NOHT\n",
      "NOH\n",
      "NO\n",
      "N\n",
      "\n",
      "\n"
     ]
    }
   ],
   "source": [
    "S = ' PYTHON'\n",
    "L = len(S)\n",
    "for i in range(0,L+1):\n",
    "    print(S[7:i:-1])"
   ]
  },
  {
   "cell_type": "code",
   "execution_count": 35,
   "metadata": {},
   "outputs": [
    {
     "name": "stdout",
     "output_type": "stream",
     "text": [
      "N\n"
     ]
    }
   ],
   "source": [
    "S = ' PYTHON'\n",
    "L = len(S)\n",
    "print(S[7:5:-1])"
   ]
  },
  {
   "cell_type": "code",
   "execution_count": 39,
   "metadata": {},
   "outputs": [
    {
     "name": "stdout",
     "output_type": "stream",
     "text": [
      "N\n",
      "NO\n",
      "NOH\n",
      "NOHT\n",
      "NOHTY\n",
      "NOHTYP\n",
      "\n"
     ]
    }
   ],
   "source": [
    "S = ' PYTHON'\n",
    "L = len(S)\n",
    "for i in range(0,L):\n",
    "    print(S[7:5-i:-1])"
   ]
  },
  {
   "cell_type": "code",
   "execution_count": 20,
   "metadata": {},
   "outputs": [
    {
     "name": "stdout",
     "output_type": "stream",
     "text": [
      "31\n",
      "num is emirp\n"
     ]
    }
   ],
   "source": [
    "num = 13\n",
    "rev = 0\n",
    "copy = num\n",
    "while num!=0:\n",
    "    rev =(rev*10)+num%10\n",
    "    num//=10\n",
    "print(rev)\n",
    "if(copy!=rev):\n",
    "    for i in range(2,copy//2+1):\n",
    "        if(copy%i==0):\n",
    "            print('number is not emirp')\n",
    "            break\n",
    "    else:\n",
    "        for j in range(2,rev//2+1):\n",
    "            if(rev%j==0):\n",
    "                print('num is not emirp 66')\n",
    "                break\n",
    "        else:\n",
    "            print('num is emirp')\n",
    "else:\n",
    "    print('num is not emirp and num is palindrome')\n",
    "\n",
    "\n"
   ]
  },
  {
   "cell_type": "code",
   "execution_count": 21,
   "metadata": {},
   "outputs": [
    {
     "name": "stdout",
     "output_type": "stream",
     "text": [
      "1\n",
      "number is not emirp\n",
      "11\n",
      "num is not emirp and num is palindrome\n",
      "21\n",
      "number is not emirp\n",
      "31\n",
      "num is emirp\n",
      "41\n",
      "number is not emirp\n",
      "51\n",
      "number is not emirp\n",
      "61\n",
      "number is not emirp\n",
      "71\n",
      "num is emirp\n",
      "81\n",
      "number is not emirp\n",
      "91\n",
      "num is not emirp 66\n",
      "2\n",
      "number is not emirp\n",
      "12\n",
      "number is not emirp\n",
      "22\n",
      "num is not emirp and num is palindrome\n",
      "32\n",
      "num is not emirp 66\n",
      "42\n",
      "number is not emirp\n",
      "52\n",
      "number is not emirp\n",
      "62\n",
      "number is not emirp\n",
      "72\n",
      "number is not emirp\n",
      "82\n",
      "number is not emirp\n",
      "92\n",
      "num is not emirp 66\n",
      "3\n",
      "number is not emirp\n",
      "13\n",
      "num is emirp\n",
      "23\n",
      "number is not emirp\n",
      "33\n",
      "num is not emirp and num is palindrome\n",
      "43\n",
      "number is not emirp\n",
      "53\n",
      "number is not emirp\n",
      "63\n",
      "number is not emirp\n",
      "73\n",
      "num is emirp\n",
      "83\n",
      "number is not emirp\n",
      "93\n",
      "number is not emirp\n",
      "4\n",
      "number is not emirp\n",
      "14\n",
      "num is not emirp 66\n",
      "24\n",
      "number is not emirp\n",
      "34\n",
      "num is not emirp 66\n",
      "44\n",
      "num is not emirp and num is palindrome\n",
      "54\n",
      "number is not emirp\n",
      "64\n",
      "number is not emirp\n",
      "74\n",
      "num is not emirp 66\n",
      "84\n",
      "number is not emirp\n",
      "94\n",
      "number is not emirp\n",
      "5\n",
      "number is not emirp\n",
      "15\n",
      "number is not emirp\n",
      "25\n",
      "number is not emirp\n",
      "35\n",
      "num is not emirp 66\n",
      "45\n",
      "number is not emirp\n",
      "55\n",
      "num is not emirp and num is palindrome\n",
      "65\n",
      "number is not emirp\n",
      "75\n",
      "number is not emirp\n",
      "85\n",
      "number is not emirp\n",
      "95\n",
      "num is not emirp 66\n",
      "6\n",
      "number is not emirp\n",
      "16\n",
      "num is not emirp 66\n",
      "26\n",
      "number is not emirp\n",
      "36\n",
      "number is not emirp\n",
      "46\n",
      "number is not emirp\n",
      "56\n",
      "number is not emirp\n",
      "66\n",
      "num is not emirp and num is palindrome\n",
      "76\n",
      "num is not emirp 66\n",
      "86\n",
      "number is not emirp\n",
      "96\n",
      "number is not emirp\n",
      "7\n",
      "number is not emirp\n",
      "17\n",
      "num is emirp\n",
      "27\n",
      "number is not emirp\n",
      "37\n",
      "num is emirp\n",
      "47\n",
      "number is not emirp\n",
      "57\n",
      "number is not emirp\n",
      "67\n",
      "number is not emirp\n",
      "77\n",
      "num is not emirp and num is palindrome\n",
      "87\n",
      "number is not emirp\n",
      "97\n",
      "num is emirp\n",
      "8\n",
      "number is not emirp\n",
      "18\n",
      "number is not emirp\n",
      "28\n",
      "number is not emirp\n",
      "38\n",
      "num is not emirp 66\n",
      "48\n",
      "number is not emirp\n",
      "58\n",
      "number is not emirp\n",
      "68\n",
      "number is not emirp\n",
      "78\n",
      "number is not emirp\n",
      "88\n",
      "num is not emirp and num is palindrome\n",
      "98\n",
      "num is not emirp 66\n",
      "9\n",
      "number is not emirp\n",
      "19\n",
      "number is not emirp\n",
      "29\n",
      "number is not emirp\n",
      "39\n",
      "number is not emirp\n",
      "49\n",
      "number is not emirp\n",
      "59\n",
      "number is not emirp\n",
      "69\n",
      "number is not emirp\n",
      "79\n",
      "num is emirp\n",
      "89\n",
      "number is not emirp\n",
      "99\n",
      "num is not emirp and num is palindrome\n"
     ]
    }
   ],
   "source": [
    "for k in range(10,100):\n",
    "    num = k\n",
    "    rev = 0\n",
    "    copy = num\n",
    "    while num!=0:\n",
    "        rev =(rev*10)+num%10\n",
    "        num//=10\n",
    "    print(rev)\n",
    "    if(copy!=rev):\n",
    "        for i in range(2,copy//2+1):\n",
    "            if(copy%i==0):\n",
    "                print('number is not emirp')\n",
    "                break\n",
    "        else:\n",
    "            for j in range(2,rev//2+1):\n",
    "                if(rev%j==0):\n",
    "                    print('num is not emirp 66')\n",
    "                    break\n",
    "            else:\n",
    "                    print('num is emirp')\n",
    "    else:\n",
    "        print('num is not emirp and num is palindrome')\n",
    "\n",
    "\n"
   ]
  },
  {
   "cell_type": "code",
   "execution_count": 26,
   "metadata": {},
   "outputs": [
    {
     "name": "stdout",
     "output_type": "stream",
     "text": [
      "EDCBA\n",
      "JONAM\n"
     ]
    },
    {
     "ename": "TypeError",
     "evalue": "'str' object cannot be interpreted as an integer",
     "output_type": "error",
     "traceback": [
      "\u001b[1;31m---------------------------------------------------------------------------\u001b[0m",
      "\u001b[1;31mTypeError\u001b[0m                                 Traceback (most recent call last)",
      "Cell \u001b[1;32mIn[26], line 13\u001b[0m\n\u001b[0;32m     11\u001b[0m D \u001b[39m=\u001b[39m \u001b[39m'\u001b[39m\u001b[39mSTOKES\u001b[39m\u001b[39m'\u001b[39m\n\u001b[0;32m     12\u001b[0m L \u001b[39m=\u001b[39m \u001b[39mlen\u001b[39m(D)\n\u001b[1;32m---> 13\u001b[0m \u001b[39mfor\u001b[39;00m c \u001b[39min\u001b[39;00m \u001b[39mrange\u001b[39;49m(\u001b[39m0\u001b[39;49m,D):\n\u001b[0;32m     14\u001b[0m     PRINT\n",
      "\u001b[1;31mTypeError\u001b[0m: 'str' object cannot be interpreted as an integer"
     ]
    }
   ],
   "source": [
    "# reverse string using slicing\n",
    "S = 'ABCDE'\n",
    "print(S[::-1])\n",
    "# another method reverse the string\n",
    "k = 'MANOJ'\n",
    "rev=''\n",
    "for i in range(4,-1,-1):\n",
    "    rev = rev+ k[i]\n",
    "print(rev)\n",
    "#third method\n",
    "D = 'STOKES'\n",
    "L = len(D)\n",
    "for c in range(0,D):\n",
    "    print()\n"
   ]
  },
  {
   "cell_type": "code",
   "execution_count": 33,
   "metadata": {},
   "outputs": [
    {
     "name": "stdout",
     "output_type": "stream",
     "text": [
      "NOHYTP\n"
     ]
    }
   ],
   "source": [
    "S = 'PTYHON'\n",
    "res=''\n",
    "for i in range(-1,-7,-1):\n",
    "    res+=S[i]\n",
    "print(res)"
   ]
  },
  {
   "cell_type": "code",
   "execution_count": 1,
   "metadata": {},
   "outputs": [
    {
     "name": "stdout",
     "output_type": "stream",
     "text": [
      "[18, 14, 13, 15, 17, 11]\n"
     ]
    }
   ],
   "source": [
    "L = [11, 17, 15, 13, 14, 18]\n",
    "res=[]\n",
    "for i in range(0,6):\n",
    "    res.append(L[6-(i+1)])\n",
    "print(res)"
   ]
  },
  {
   "cell_type": "code",
   "execution_count": 4,
   "metadata": {},
   "outputs": [
    {
     "name": "stdout",
     "output_type": "stream",
     "text": [
      "[11, 17, 15, 13, 14, 18]\n",
      "[18, 17, 15, 13, 14, 11]\n",
      "[18, 14, 15, 13, 17, 11]\n",
      "[18, 14, 13, 15, 17, 11]\n"
     ]
    }
   ],
   "source": [
    "L = [11, 17, 15, 13, 14, 18]\n",
    "print(L)\n",
    "L[0],L[5]=L[5],L[0]\n",
    "print(L)\n",
    "L[1],L[-2]=L[-2],L[1]\n",
    "print(L)\n",
    "L[2],L[-3]=L[-3],L[2]\n",
    "print(L)"
   ]
  },
  {
   "cell_type": "code",
   "execution_count": 5,
   "metadata": {},
   "outputs": [
    {
     "name": "stdout",
     "output_type": "stream",
     "text": [
      "[18, 14, 13, 15, 17, 11]\n"
     ]
    }
   ],
   "source": [
    "L = [11, 17, 15, 13, 14, 18]\n",
    "res=[]\n",
    "for i in range(0,len(L)//2):\n",
    "    L[i],L[-i-1]=L[-i-1],L[i]\n",
    "print(L)"
   ]
  },
  {
   "cell_type": "code",
   "execution_count": null,
   "metadata": {},
   "outputs": [],
   "source": [
    "L = [11, 17, 15, 13, 14, 18, 19, 21]\n",
    "S= len(L)\n",
    "for i in range(0,S//2):\n",
    "    L[i]\n",
    "\n"
   ]
  },
  {
   "cell_type": "code",
   "execution_count": 4,
   "metadata": {},
   "outputs": [
    {
     "name": "stdout",
     "output_type": "stream",
     "text": [
      "P\n",
      "YY\n",
      "TTT\n",
      "HHHH\n",
      "OOOOO\n",
      "NNNNNN\n"
     ]
    }
   ],
   "source": [
    "S = 'PYTHON'\n",
    "L = len(S)\n",
    "for i in range(0,L):\n",
    "    print(S[i]*(i+1))"
   ]
  },
  {
   "cell_type": "code",
   "execution_count": 5,
   "metadata": {},
   "outputs": [
    {
     "name": "stdout",
     "output_type": "stream",
     "text": [
      "\n",
      "\n",
      "E \n",
      "D E \n",
      "C D E \n"
     ]
    }
   ],
   "source": [
    "S = 'ABCDE'\n",
    "L=len(S)\n",
    "for i in range(0,L):\n",
    "    for j in range(L-i+1,L):\n",
    "        print(S[j],end= ' ')\n",
    "    print()"
   ]
  },
  {
   "cell_type": "code",
   "execution_count": 14,
   "metadata": {},
   "outputs": [
    {
     "name": "stdout",
     "output_type": "stream",
     "text": [
      "1 \n",
      "2 2 \n",
      "3 3 3 \n",
      "4 4 4 4 \n",
      "5 5 5 5 5 \n"
     ]
    }
   ],
   "source": [
    "num = 5\n",
    "for i in range(1,num+1):\n",
    "    print(((str(i)+' ')*i), end ='')\n",
    "    print()"
   ]
  },
  {
   "cell_type": "code",
   "execution_count": 28,
   "metadata": {},
   "outputs": [
    {
     "name": "stdout",
     "output_type": "stream",
     "text": [
      "10\n"
     ]
    },
    {
     "data": {
      "text/plain": [
       "23"
      ]
     },
     "execution_count": 28,
     "metadata": {},
     "output_type": "execute_result"
    }
   ],
   "source": [
    "def X():\n",
    "    print(10)\n",
    "    return 23\n",
    "    print('5')\n",
    "X()"
   ]
  },
  {
   "cell_type": "code",
   "execution_count": null,
   "metadata": {},
   "outputs": [],
   "source": []
  },
  {
   "cell_type": "code",
   "execution_count": 29,
   "metadata": {},
   "outputs": [
    {
     "name": "stdout",
     "output_type": "stream",
     "text": [
      "hi\n"
     ]
    },
    {
     "data": {
      "text/plain": [
       "50"
      ]
     },
     "execution_count": 29,
     "metadata": {},
     "output_type": "execute_result"
    }
   ],
   "source": [
    "def W():\n",
    "    print('hi')\n",
    "    return 50\n",
    "    print('world')\n",
    "W()"
   ]
  }
 ],
 "metadata": {
  "kernelspec": {
   "display_name": "Python 3",
   "language": "python",
   "name": "python3"
  },
  "language_info": {
   "codemirror_mode": {
    "name": "ipython",
    "version": 3
   },
   "file_extension": ".py",
   "mimetype": "text/x-python",
   "name": "python",
   "nbconvert_exporter": "python",
   "pygments_lexer": "ipython3",
   "version": "3.11.2"
  },
  "orig_nbformat": 4
 },
 "nbformat": 4,
 "nbformat_minor": 2
}
