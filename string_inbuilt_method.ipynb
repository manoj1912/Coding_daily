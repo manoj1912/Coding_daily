{
 "cells": [
  {
   "cell_type": "code",
   "execution_count": 1,
   "metadata": {},
   "outputs": [
    {
     "name": "stdout",
     "output_type": "stream",
     "text": [
      "PYTHON\n"
     ]
    }
   ],
   "source": [
    "#upper() method\n",
    "S='python'\n",
    "print(S.upper())\n"
   ]
  },
  {
   "cell_type": "code",
   "execution_count": 5,
   "metadata": {},
   "outputs": [
    {
     "name": "stdout",
     "output_type": "stream",
     "text": [
      "ABCdefgh\n",
      "ABCDEFGH\n",
      "2116741806128\n",
      "2116742010928\n"
     ]
    }
   ],
   "source": [
    "#upper() method\n",
    "X = 'ABCdefgh'\n",
    "S = X.upper()\n",
    "print(X)\n",
    "print(S)\n",
    "print(id(X))\n",
    "print(id(S))"
   ]
  },
  {
   "cell_type": "code",
   "execution_count": 3,
   "metadata": {},
   "outputs": [
    {
     "name": "stdout",
     "output_type": "stream",
     "text": [
      "MAnusTein@1998\n",
      "MANUSTEIN@1998\n"
     ]
    }
   ],
   "source": [
    "#upper() method\n",
    "S = 'MAnusTein@1998'\n",
    "Z = S.upper()\n",
    "print(S)\n",
    "print(Z)\n"
   ]
  },
  {
   "cell_type": "code",
   "execution_count": 7,
   "metadata": {},
   "outputs": [
    {
     "name": "stdout",
     "output_type": "stream",
     "text": [
      "MAnusTein@1998\n",
      "manustein@1998\n"
     ]
    }
   ],
   "source": [
    "# lower() method\n",
    "X = 'MAnusTein@1998'\n",
    "T = X.lower()\n",
    "print(X)\n",
    "print(T)\n"
   ]
  }
 ],
 "metadata": {
  "kernelspec": {
   "display_name": "Python 3",
   "language": "python",
   "name": "python3"
  },
  "language_info": {
   "codemirror_mode": {
    "name": "ipython",
    "version": 3
   },
   "file_extension": ".py",
   "mimetype": "text/x-python",
   "name": "python",
   "nbconvert_exporter": "python",
   "pygments_lexer": "ipython3",
   "version": "3.11.1"
  },
  "orig_nbformat": 4,
  "vscode": {
   "interpreter": {
    "hash": "5c4c1caf65b490ed5d24fcb4a6f6229ba2fcfe1196d5ada620e36c6e220d14db"
   }
  }
 },
 "nbformat": 4,
 "nbformat_minor": 2
}
