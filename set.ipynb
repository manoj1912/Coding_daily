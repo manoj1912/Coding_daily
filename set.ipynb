{
 "cells": [
  {
   "cell_type": "code",
   "execution_count": 2,
   "metadata": {},
   "outputs": [
    {
     "name": "stdout",
     "output_type": "stream",
     "text": [
      "{False, True, 20, 10, 11, (10, 12)}\n"
     ]
    }
   ],
   "source": [
    "S={10,20,True,False,0,0,11,11,1,1,(10,12)}\n",
    "print(S)"
   ]
  },
  {
   "cell_type": "code",
   "execution_count": 3,
   "metadata": {},
   "outputs": [
    {
     "ename": "TypeError",
     "evalue": "unhashable type: 'list'",
     "output_type": "error",
     "traceback": [
      "\u001b[1;31m---------------------------------------------------------------------------\u001b[0m",
      "\u001b[1;31mTypeError\u001b[0m                                 Traceback (most recent call last)",
      "Cell \u001b[1;32mIn[3], line 1\u001b[0m\n\u001b[1;32m----> 1\u001b[0m S\u001b[39m=\u001b[39m{\u001b[39m10\u001b[39m,\u001b[39m20\u001b[39m,\u001b[39m30\u001b[39m,[\u001b[39m40\u001b[39m,\u001b[39m50\u001b[39m]}\n\u001b[0;32m      2\u001b[0m \u001b[39mprint\u001b[39m(S)\n",
      "\u001b[1;31mTypeError\u001b[0m: unhashable type: 'list'"
     ]
    }
   ],
   "source": [
    "S={10,20,30,[40,50]}\n",
    "print(S)"
   ]
  },
  {
   "cell_type": "code",
   "execution_count": 4,
   "metadata": {},
   "outputs": [
    {
     "ename": "TypeError",
     "evalue": "unhashable type: 'set'",
     "output_type": "error",
     "traceback": [
      "\u001b[1;31m---------------------------------------------------------------------------\u001b[0m",
      "\u001b[1;31mTypeError\u001b[0m                                 Traceback (most recent call last)",
      "Cell \u001b[1;32mIn[4], line 1\u001b[0m\n\u001b[1;32m----> 1\u001b[0m S\u001b[39m=\u001b[39m{\u001b[39m10\u001b[39m,\u001b[39m20\u001b[39m,{\u001b[39m40\u001b[39m,\u001b[39m50\u001b[39m}}\n\u001b[0;32m      2\u001b[0m \u001b[39mprint\u001b[39m(S)\n",
      "\u001b[1;31mTypeError\u001b[0m: unhashable type: 'set'"
     ]
    }
   ],
   "source": [
    "S={10,20,{40,50}}\n",
    "print(S)"
   ]
  },
  {
   "cell_type": "code",
   "execution_count": 5,
   "metadata": {},
   "outputs": [
    {
     "ename": "TypeError",
     "evalue": "unhashable type: 'dict'",
     "output_type": "error",
     "traceback": [
      "\u001b[1;31m---------------------------------------------------------------------------\u001b[0m",
      "\u001b[1;31mTypeError\u001b[0m                                 Traceback (most recent call last)",
      "Cell \u001b[1;32mIn[5], line 1\u001b[0m\n\u001b[1;32m----> 1\u001b[0m S\u001b[39m=\u001b[39m{\u001b[39m10\u001b[39m,\u001b[39m20\u001b[39m,\u001b[39m40\u001b[39m,{\u001b[39m50\u001b[39m:\u001b[39m60\u001b[39m}}\n\u001b[0;32m      2\u001b[0m \u001b[39mprint\u001b[39m(S)\n",
      "\u001b[1;31mTypeError\u001b[0m: unhashable type: 'dict'"
     ]
    }
   ],
   "source": [
    "S={10,20,40,{50:60}}\n",
    "print(S)"
   ]
  },
  {
   "cell_type": "code",
   "execution_count": 4,
   "metadata": {},
   "outputs": [
    {
     "name": "stdout",
     "output_type": "stream",
     "text": [
      "{False, True, 2.5, 'PYTHON', 10, (10, 30, 40)}\n"
     ]
    }
   ],
   "source": [
    "S = {10, 2.5, 'PYTHON', True, False, 0, 1, (10,30,40)}\n",
    "print(S)"
   ]
  }
 ],
 "metadata": {
  "kernelspec": {
   "display_name": "Python 3",
   "language": "python",
   "name": "python3"
  },
  "language_info": {
   "codemirror_mode": {
    "name": "ipython",
    "version": 3
   },
   "file_extension": ".py",
   "mimetype": "text/x-python",
   "name": "python",
   "nbconvert_exporter": "python",
   "pygments_lexer": "ipython3",
   "version": "3.11.1"
  },
  "orig_nbformat": 4,
  "vscode": {
   "interpreter": {
    "hash": "5c4c1caf65b490ed5d24fcb4a6f6229ba2fcfe1196d5ada620e36c6e220d14db"
   }
  }
 },
 "nbformat": 4,
 "nbformat_minor": 2
}
