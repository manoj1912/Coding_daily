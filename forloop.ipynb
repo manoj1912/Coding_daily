{
 "cells": [
  {
   "cell_type": "code",
   "execution_count": 3,
   "metadata": {},
   "outputs": [
    {
     "name": "stdout",
     "output_type": "stream",
     "text": [
      "2 4 6 8 10 12 14 16 18 20 22 24 26 28 30 32 34 36 38 40 42 44 46 48 50 "
     ]
    }
   ],
   "source": [
    "num = 1\n",
    "while (num!=51):\n",
    "    if (num%2==0):\n",
    "        print(num, end = ' ')\n",
    "    num+=1\n"
   ]
  },
  {
   "cell_type": "code",
   "execution_count": 12,
   "metadata": {},
   "outputs": [
    {
     "name": "stdout",
     "output_type": "stream",
     "text": [
      "51 53 55 57 59 61 63 65 67 69 71 73 75 77 79 81 83 85 87 89 91 93 95 97 99 for loop completed\n",
      "51 53 55 57 59 61 63 65 67 69 71 73 75 77 79 81 83 85 87 89 91 93 95 97 99 while loop completed\n"
     ]
    }
   ],
   "source": [
    "#write program to generate odd number 50 t0 100 and even 50 t0 25;\n",
    "for num in range(50,101):\n",
    "    if (num%2!=0):\n",
    "        print(num,end = ' ')\n",
    "print(\"for loop completed\")\n",
    "X=50\n",
    "while (X!=101):\n",
    "    if (X%2!=0):\n",
    "        print(X, end=\" \")\n",
    "    X+=1\n",
    "print(\"while loop completed\")\n",
    "\n"
   ]
  },
  {
   "cell_type": "code",
   "execution_count": 29,
   "metadata": {},
   "outputs": [
    {
     "name": "stdout",
     "output_type": "stream",
     "text": [
      "50 48 46 44 42 40 38 36 34 32 30 28 26 for loop completed\n"
     ]
    }
   ],
   "source": [
    "for num in range(50,24,-1):\n",
    "    if(num%2==0):\n",
    "        print(num,end = ' ')\n",
    "print(\"for loop completed\")"
   ]
  },
  {
   "cell_type": "code",
   "execution_count": 1,
   "metadata": {},
   "outputs": [
    {
     "name": "stdout",
     "output_type": "stream",
     "text": [
      "1\n",
      "17\n",
      "prime number\n"
     ]
    }
   ],
   "source": [
    "num = 17\n",
    "count = 0\n",
    "for i in  range(1,num+1):\n",
    "    if(num%i==0):\n",
    "        print(i)\n",
    "        count+=1\n",
    "if(count==2):\n",
    "    print('prime number')\n",
    "else:\n",
    "    print('not prime number')"
   ]
  },
  {
   "cell_type": "code",
   "execution_count": 30,
   "metadata": {},
   "outputs": [
    {
     "name": "stdout",
     "output_type": "stream",
     "text": [
      "50 48 46 44 42 40 38 36 34 32 30 28 26 for loop completed\n"
     ]
    }
   ],
   "source": [
    "for num in range(50,24,-1):\n",
    "    if(num%2==0):\n",
    "        print(num,end = ' ')\n",
    "print(\"for loop completed\")"
   ]
  }
 ],
 "metadata": {
  "kernelspec": {
   "display_name": "Python 3",
   "language": "python",
   "name": "python3"
  },
  "language_info": {
   "codemirror_mode": {
    "name": "ipython",
    "version": 3
   },
   "file_extension": ".py",
   "mimetype": "text/x-python",
   "name": "python",
   "nbconvert_exporter": "python",
   "pygments_lexer": "ipython3",
   "version": "3.11.2"
  },
  "orig_nbformat": 4,
  "vscode": {
   "interpreter": {
    "hash": "5c4c1caf65b490ed5d24fcb4a6f6229ba2fcfe1196d5ada620e36c6e220d14db"
   }
  }
 },
 "nbformat": 4,
 "nbformat_minor": 2
}
