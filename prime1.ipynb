{
 "cells": [
  {
   "cell_type": "code",
   "execution_count": 20,
   "metadata": {},
   "outputs": [
    {
     "name": "stdout",
     "output_type": "stream",
     "text": [
      "prime\n"
     ]
    }
   ],
   "source": [
    "num =3\n",
    "if(num>1):\n",
    "    for i in range(2,num//2+1):\n",
    "        if(num%i==0):\n",
    "                print('not prime')\n",
    "                break\n",
    "    else:\n",
    "        print('prime')\n",
    "else:\n",
    "     print('not prime')"
   ]
  },
  {
   "cell_type": "code",
   "execution_count": 39,
   "metadata": {},
   "outputs": [],
   "source": [
    "num=3\n",
    "count=0\n",
    "while (num!=11):\n",
    "    num+=1\n",
    "    for i in range(1,num+1):\n",
    "        if(num%i==0):\n",
    "            count+=1\n",
    "    if count==2:\n",
    "        print(num)"
   ]
  },
  {
   "cell_type": "code",
   "execution_count": 30,
   "metadata": {},
   "outputs": [
    {
     "name": "stdout",
     "output_type": "stream",
     "text": [
      "2\n",
      "3\n",
      "5\n",
      "7\n",
      "11\n",
      "13\n",
      "17\n",
      "19\n"
     ]
    }
   ],
   "source": [
    "for i in range(1,21):\n",
    "    count=0\n",
    "    for num in range(1,i+1):\n",
    "        if(i%num==0):\n",
    "            count+=1\n",
    "    if(count==2):\n",
    "        print(i)"
   ]
  },
  {
   "cell_type": "code",
   "execution_count": 31,
   "metadata": {},
   "outputs": [
    {
     "name": "stdout",
     "output_type": "stream",
     "text": [
      "47\n",
      "43\n",
      "41\n",
      "37\n",
      "31\n",
      "29\n",
      "23\n"
     ]
    }
   ],
   "source": [
    "#wap to prime number 50 t0 20\n",
    "for num in range(50,19,-1):\n",
    "    count=0\n",
    "    for i in range(1,num+1):\n",
    "        if (num%i==0):\n",
    "            count+=1\n",
    "    if(count==2):\n",
    "        print(num)"
   ]
  },
  {
   "cell_type": "code",
   "execution_count": 1,
   "metadata": {},
   "outputs": [
    {
     "name": "stdout",
     "output_type": "stream",
     "text": [
      "1\n",
      "29\n"
     ]
    }
   ],
   "source": [
    "#wap to factorial to given number\n",
    "num=29\n",
    "for i in range(1,num+1):\n",
    "    if(num%i==0):\n",
    "        print(i)"
   ]
  },
  {
   "cell_type": "code",
   "execution_count": 3,
   "metadata": {},
   "outputs": [
    {
     "name": "stdout",
     "output_type": "stream",
     "text": [
      "2\n",
      "3\n",
      "5\n",
      "7\n",
      "11\n",
      "13\n",
      "17\n",
      "19\n",
      "23\n",
      "29\n"
     ]
    }
   ],
   "source": [
    "#wap to prime num 1 to  30 \n",
    "for num in range(1,31):\n",
    "    if num>1:\n",
    "        for i in range(2,num//2+1):\n",
    "            if(num%i==0):\n",
    "                break\n",
    "        else:\n",
    "            print(num)\n",
    "\n"
   ]
  },
  {
   "cell_type": "code",
   "execution_count": 39,
   "metadata": {},
   "outputs": [
    {
     "name": "stdout",
     "output_type": "stream",
     "text": [
      "2\n",
      "3\n",
      "5\n",
      "7\n",
      "11\n",
      "13\n",
      "17\n",
      "19\n",
      "23\n",
      "29\n"
     ]
    }
   ],
   "source": [
    "#wap to prime num 1 to  30 \n",
    "for num in range(1,31):\n",
    "    if num>1:\n",
    "        for i in range(2,num//2+1):\n",
    "            if(num%i==0):\n",
    "                break\n",
    "        else:\n",
    "            print(num)\n",
    "\n"
   ]
  },
  {
   "cell_type": "code",
   "execution_count": 4,
   "metadata": {},
   "outputs": [
    {
     "name": "stdout",
     "output_type": "stream",
     "text": [
      "29\n"
     ]
    }
   ],
   "source": [
    "#wap to print highest prime number from 1 to 30\n",
    "for num in range(30,0,-1):\n",
    "    if num>1:\n",
    "        for i in range(2,num//2+1):\n",
    "            if(num%i==0):\n",
    "                break\n",
    "        else:\n",
    "            print(num)\n",
    "            break\n",
    "\n"
   ]
  },
  {
   "cell_type": "code",
   "execution_count": 5,
   "metadata": {},
   "outputs": [
    {
     "name": "stdout",
     "output_type": "stream",
     "text": [
      "97\n"
     ]
    }
   ],
   "source": [
    "for num in range(100,69,-1):\n",
    "    if num>1:\n",
    "        for i in range(2,num//2+1):\n",
    "            if(num%i==0):\n",
    "                break\n",
    "        else:\n",
    "            print(num)\n",
    "            break"
   ]
  },
  {
   "cell_type": "code",
   "execution_count": 24,
   "metadata": {},
   "outputs": [
    {
     "name": "stdout",
     "output_type": "stream",
     "text": [
      "3-83\n"
     ]
    }
   ],
   "source": [
    "# wap to print 3rd highest for 70 t0 100\n",
    "count=1\n",
    "for num in range(100,69,-1):\n",
    "    if num>1:\n",
    "        for i in range(2,num//2+1):\n",
    "            if(num%i==0):\n",
    "                break\n",
    "        else:\n",
    "            if(count==3):\n",
    "                print(f'{count}-{num}')\n",
    "            count+=1"
   ]
  },
  {
   "cell_type": "code",
   "execution_count": 20,
   "metadata": {},
   "outputs": [
    {
     "name": "stdout",
     "output_type": "stream",
     "text": [
      "83\n"
     ]
    }
   ],
   "source": [
    "count=0\n",
    "for num in range(100,69,-1):\n",
    "    if num>1:\n",
    "        for i in range(2,num//2+1):\n",
    "            if(num%i==0):\n",
    "                break\n",
    "        else:\n",
    "            count+=1\n",
    "            if(count == 3):\n",
    "                print(num)"
   ]
  },
  {
   "cell_type": "code",
   "execution_count": 50,
   "metadata": {},
   "outputs": [
    {
     "name": "stdout",
     "output_type": "stream",
     "text": [
      "1-2\n",
      "3-5\n",
      "5-11\n",
      "7-17\n",
      "9-23\n"
     ]
    }
   ],
   "source": [
    "count=0\n",
    "for num in range(1,31):\n",
    "    if num>1:\n",
    "        for i in range(2,num//2+1):\n",
    "            if(num%i==0):\n",
    "                break\n",
    "        else:\n",
    "            count+=1\n",
    "            if(count%2!=0):\n",
    "                print(f\"{count}-{num}\")\n",
    "        "
   ]
  },
  {
   "cell_type": "code",
   "execution_count": 2,
   "metadata": {},
   "outputs": [
    {
     "name": "stdout",
     "output_type": "stream",
     "text": [
      "100\n",
      "30\n",
      "1-2\n",
      "2-3\n",
      "3-5\n",
      "4-7\n",
      "5-11\n",
      "6-13\n",
      "7-17\n",
      "8-19\n",
      "9-23\n",
      "10-29\n",
      "11-31\n",
      "12-37\n",
      "13-41\n",
      "14-43\n",
      "15-47\n",
      "16-53\n",
      "17-59\n",
      "18-61\n",
      "19-67\n",
      "20-71\n",
      "21-73\n",
      "22-79\n",
      "23-83\n",
      "24-89\n",
      "25-97\n"
     ]
    }
   ],
   "source": [
    "num = 100\n",
    "print(num)\n",
    "max = 30\n",
    "print(max)\n",
    "count=0\n",
    "for num in range(1,num+1):\n",
    "    if num>1:\n",
    "        for i in range(2,num//2+1):\n",
    "            if(num%i==0):\n",
    "                break\n",
    "        else:\n",
    "            count+=1\n",
    "            if(count<=max):\n",
    "                print(f'{count}-{num}')"
   ]
  },
  {
   "cell_type": "code",
   "execution_count": null,
   "metadata": {},
   "outputs": [],
   "source": [
    "num =1\n",
    "count=0\n",
    "while num>0:\n",
    "    if num>1:\n",
    "        for i in range(2,num//2+1):\n",
    "            if(num%i==0):\n",
    "                break\n",
    "        else:\n",
    "            count+=1\n",
    "            if(count<=30):\n",
    "                print(f'{count}-{num}')\n",
    "    num+=1"
   ]
  }
 ],
 "metadata": {
  "kernelspec": {
   "display_name": "Python 3",
   "language": "python",
   "name": "python3"
  },
  "language_info": {
   "codemirror_mode": {
    "name": "ipython",
    "version": 3
   },
   "file_extension": ".py",
   "mimetype": "text/x-python",
   "name": "python",
   "nbconvert_exporter": "python",
   "pygments_lexer": "ipython3",
   "version": "3.11.1"
  },
  "orig_nbformat": 4,
  "vscode": {
   "interpreter": {
    "hash": "5c4c1caf65b490ed5d24fcb4a6f6229ba2fcfe1196d5ada620e36c6e220d14db"
   }
  }
 },
 "nbformat": 4,
 "nbformat_minor": 2
}
