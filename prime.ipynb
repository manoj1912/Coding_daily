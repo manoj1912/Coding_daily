num = 17
count = 0
for i in  range(1,num+1):
    if(num%i==0):
        print(i)
        count+=1
if(count==2):
    print('prime number')
else:
    print('not prime number')