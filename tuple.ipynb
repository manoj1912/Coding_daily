{
 "cells": [
  {
   "cell_type": "code",
   "execution_count": 1,
   "metadata": {},
   "outputs": [
    {
     "name": "stdout",
     "output_type": "stream",
     "text": [
      "(100, 'PYTHON', [12, 13, 14], (10, 20, 30, [10, 12]))\n",
      "12\n",
      "10\n",
      "[10, 12]\n",
      "[12, 13, 14]\n",
      "14\n",
      "T\n",
      "(100, 'PYTHON', [12, 13, 14], (10, 20, 30, [13, 12]))\n",
      "[13, 12]\n",
      "(10, 20, 30, [13, 12])\n"
     ]
    }
   ],
   "source": [
    "T=(100, 'PYTHON', [12, 13, 14], (10, 20, 30, [10,12]))\n",
    "print(T)\n",
    "print(T[-1][3][-1])\n",
    "print(T[-1][3][-2])\n",
    "print(T[3][3])\n",
    "print(T[2])\n",
    "print(T[2][2])\n",
    "print(T[1][2])\n",
    "T[3][3][0]=13\n",
    "print(T)\n",
    "print(T[3][3])\n",
    "print(T[3])\n"
   ]
  }
 ],
 "metadata": {
  "kernelspec": {
   "display_name": "Python 3",
   "language": "python",
   "name": "python3"
  },
  "language_info": {
   "codemirror_mode": {
    "name": "ipython",
    "version": 3
   },
   "file_extension": ".py",
   "mimetype": "text/x-python",
   "name": "python",
   "nbconvert_exporter": "python",
   "pygments_lexer": "ipython3",
   "version": "3.11.1"
  },
  "orig_nbformat": 4,
  "vscode": {
   "interpreter": {
    "hash": "5c4c1caf65b490ed5d24fcb4a6f6229ba2fcfe1196d5ada620e36c6e220d14db"
   }
  }
 },
 "nbformat": 4,
 "nbformat_minor": 2
}
