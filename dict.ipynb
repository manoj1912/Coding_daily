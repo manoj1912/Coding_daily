{
 "cells": [
  {
   "cell_type": "code",
   "execution_count": 4,
   "metadata": {},
   "outputs": [
    {
     "name": "stdout",
     "output_type": "stream",
     "text": [
      "{'reddy': 5, 'sai': 25, 'manoj': 15}\n",
      "15\n",
      "25\n"
     ]
    }
   ],
   "source": [
    "A={'reddy': 5, 'sai': 10, 'manoj': 15, 'sai':25}\n",
    "print(A)\n",
    "print(A['manoj'])\n",
    "print(A['sai'])\n"
   ]
  },
  {
   "cell_type": "code",
   "execution_count": 11,
   "metadata": {},
   "outputs": [
    {
     "ename": "TypeError",
     "evalue": "unhashable type: 'set'",
     "output_type": "error",
     "traceback": [
      "\u001b[1;31m---------------------------------------------------------------------------\u001b[0m",
      "\u001b[1;31mTypeError\u001b[0m                                 Traceback (most recent call last)",
      "Cell \u001b[1;32mIn[11], line 1\u001b[0m\n\u001b[1;32m----> 1\u001b[0m C\u001b[39m=\u001b[39m{{\u001b[39m10\u001b[39m,\u001b[39m20\u001b[39m}: \u001b[39m40\u001b[39m, \u001b[39m50\u001b[39m:\u001b[39m'\u001b[39m\u001b[39mmanoj\u001b[39m\u001b[39m'\u001b[39m}\n\u001b[0;32m      2\u001b[0m \u001b[39mprint\u001b[39m(C)\n",
      "\u001b[1;31mTypeError\u001b[0m: unhashable type: 'set'"
     ]
    }
   ],
   "source": [
    "C={{10,20}: 40, 50:'manoj'}\n",
    "print(C)\n"
   ]
  },
  {
   "cell_type": "code",
   "execution_count": 12,
   "metadata": {},
   "outputs": [
    {
     "ename": "TypeError",
     "evalue": "unhashable type: 'dict'",
     "output_type": "error",
     "traceback": [
      "\u001b[1;31m---------------------------------------------------------------------------\u001b[0m",
      "\u001b[1;31mTypeError\u001b[0m                                 Traceback (most recent call last)",
      "Cell \u001b[1;32mIn[12], line 1\u001b[0m\n\u001b[1;32m----> 1\u001b[0m E\u001b[39m=\u001b[39m{{\u001b[39m'\u001b[39m\u001b[39ma\u001b[39m\u001b[39m'\u001b[39m:\u001b[39m4\u001b[39m}: \u001b[39m20\u001b[39m, \u001b[39m'\u001b[39m\u001b[39ma\u001b[39m\u001b[39m'\u001b[39m: \u001b[39m60\u001b[39m}\n\u001b[0;32m      2\u001b[0m \u001b[39mprint\u001b[39m(E)\n",
      "\u001b[1;31mTypeError\u001b[0m: unhashable type: 'dict'"
     ]
    }
   ],
   "source": [
    "E={{'a':4}: 20, 'a': 60}\n",
    "print(E)"
   ]
  },
  {
   "cell_type": "code",
   "execution_count": 14,
   "metadata": {},
   "outputs": [
    {
     "name": "stdout",
     "output_type": "stream",
     "text": [
      "{(10, 20, 30): 'manoj', 'vinay': [1, 2, 3], 74: {'a': 4.5, 'b': 5.5}}\n",
      "manoj\n",
      "{(10, 20, 30): 'manoj', 'vinay': [1, 10, 3], 74: {'a': 9.5, 'b': 5.5}}\n",
      "5.5\n",
      "3\n",
      "j\n"
     ]
    }
   ],
   "source": [
    "B={(10,20,30): 'manoj', 'vinay':[1, 2, 3], 74:{'a':4.5, 'b':5.5}}\n",
    "print(B)\n",
    "B['vinay'][1]=10\n",
    "print(B[(10,20,30)])\n",
    "B[74]['a']=9.5\n",
    "print(B)\n",
    "print(B[74]['b'])\n",
    "print(B['vinay'][2])\n",
    "print(B[(10,20,30)][4])"
   ]
  },
  {
   "cell_type": "code",
   "execution_count": 14,
   "metadata": {},
   "outputs": [
    {
     "name": "stdout",
     "output_type": "stream",
     "text": [
      "{10: 20, 30: 40, 50: 60, 70: 60, 'a': 'manoj', 'b': 'kumar'}\n",
      "20\n",
      "60\n",
      "60\n",
      "manoj\n",
      "kumar\n",
      "{10: 20, 30: 40, 50: 60, 70: 'PYTHON', 'a': 'manoj', 'b': 'kumar'}\n",
      "PYTHON\n",
      "{10: 20, 30: 40, 50: 60, 70: 'PYTHON', 'a': 'manoj', 'b': {10, 20, 30}}\n",
      "{10: 20, 30: 40, 50: 60, 70: 'PYTHON', 'a': [10, 20, 30], 'b': {10, 20, 30}}\n",
      "{10: (10, 20, 30), 30: 40, 50: 60, 70: 'PYTHON', 'a': [10, 20, 30], 'b': {10, 20, 30}}\n"
     ]
    }
   ],
   "source": [
    "D={10: 20, 30: 40, 50: 60, 70: 60, 'a':'manoj', 'b':\"kumar\"}\n",
    "print(D)\n",
    "print(D[10])\n",
    "print(D[50])\n",
    "print(D[70])\n",
    "print(D['a'])\n",
    "print(D['b'])\n",
    "D[70]='PYTHON'\n",
    "print(D)\n",
    "print(D[70])\n",
    "D['b']={10,20,30}\n",
    "print(D)\n",
    "D['a']=[10,20,30]\n",
    "print(D)\n",
    "D[10]=(10,20,30)\n",
    "print(D)"
   ]
  },
  {
   "cell_type": "code",
   "execution_count": 4,
   "metadata": {},
   "outputs": [
    {
     "name": "stdout",
     "output_type": "stream",
     "text": [
      "{10: 20, 30: {40: 50, 60: {70: 80, 90: 100}}}\n",
      "80\n",
      "100\n"
     ]
    }
   ],
   "source": [
    "D={10: 20, 30:{40: 50, 60:{70: 80, 90:100}}}\n",
    "print(D)\n",
    "print(D[30][60][70])\n",
    "print(D[30][60][90])"
   ]
  },
  {
   "cell_type": "code",
   "execution_count": null,
   "metadata": {},
   "outputs": [],
   "source": [
    "D = {10:20 ,'PTYHON': {10,20,30},  }"
   ]
  }
 ],
 "metadata": {
  "kernelspec": {
   "display_name": "Python 3",
   "language": "python",
   "name": "python3"
  },
  "language_info": {
   "codemirror_mode": {
    "name": "ipython",
    "version": 3
   },
   "file_extension": ".py",
   "mimetype": "text/x-python",
   "name": "python",
   "nbconvert_exporter": "python",
   "pygments_lexer": "ipython3",
   "version": "3.11.1"
  },
  "orig_nbformat": 4,
  "vscode": {
   "interpreter": {
    "hash": "5c4c1caf65b490ed5d24fcb4a6f6229ba2fcfe1196d5ada620e36c6e220d14db"
   }
  }
 },
 "nbformat": 4,
 "nbformat_minor": 2
}
